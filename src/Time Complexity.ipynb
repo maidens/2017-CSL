{
 "cells": [
  {
   "cell_type": "code",
   "execution_count": 1,
   "metadata": {
    "collapsed": false
   },
   "outputs": [],
   "source": [
    "from Dubins import compute_J_reduced, compute_J_full\n",
    "import time"
   ]
  },
  {
   "cell_type": "code",
   "execution_count": 2,
   "metadata": {
    "collapsed": false
   },
   "outputs": [],
   "source": [
    "# vehicle 1\n",
    "\n",
    "def time_experiment(n):\n",
    "    L1 = 1.        # car length (determines turning radius)\n",
    "    V_max1 = 0.05  # maximum velocity\n",
    "    S_max1 = 1.    # maximum steering angle\n",
    "\n",
    "    # vehicle 2\n",
    "    L2 = 1.\n",
    "    V_max2 = 0.05\n",
    "    S_max2 = 1.\n",
    "\n",
    "    U = [(u1, u2) for u1 in [0, 1] for u2 in [-1, 0, 1]]\n",
    "    W = [(w1, w2) for w1 in [0, 1] for w2 in [-1, 0, 1]]\n",
    "\n",
    "    # vector of parameters\n",
    "    theta0 = [L1, V_max1, S_max1, L2, V_max2, S_max2]\n",
    "\n",
    "    N = 1\n",
    "    \n",
    "    t0 = time.time()\n",
    "    J = compute_J_reduced(n, N, theta0, U, W)\n",
    "    dt = time.time() - t0\n",
    "    print \"Grid size: %i; Time reduced: %f\"%(n, dt)\n",
    "    \n",
    "    if n < 12:\n",
    "        t0 = time.time()\n",
    "        J = compute_J_full(n, N, theta0, U, W)\n",
    "        dt = time.time() - t0\n",
    "        print \"Grid size: %i; Time full: %f\"%(n, dt)"
   ]
  },
  {
   "cell_type": "code",
   "execution_count": 3,
   "metadata": {
    "collapsed": false
   },
   "outputs": [
    {
     "name": "stdout",
     "output_type": "stream",
     "text": [
      "Grid size: 5; Time reduced: 0.866337\n",
      "Grid size: 5; Time full: 176.269668\n",
      "Grid size: 11; Time reduced: 10.216632\n",
      "Timeout after 7200 seconds\n",
      "Grid size: 11; Time full: 7200.308099\n",
      "Grid size: 51; Time reduced: 952.842255\n"
     ]
    }
   ],
   "source": [
    "for k in [5, 11, 51]:\n",
    "    time_experiment(k)"
   ]
  },
  {
   "cell_type": "code",
   "execution_count": null,
   "metadata": {
    "collapsed": true
   },
   "outputs": [],
   "source": []
  }
 ],
 "metadata": {
  "kernelspec": {
   "display_name": "Python 2",
   "language": "python",
   "name": "python2"
  },
  "language_info": {
   "codemirror_mode": {
    "name": "ipython",
    "version": 2
   },
   "file_extension": ".py",
   "mimetype": "text/x-python",
   "name": "python",
   "nbconvert_exporter": "python",
   "pygments_lexer": "ipython2",
   "version": "2.7.13"
  }
 },
 "nbformat": 4,
 "nbformat_minor": 2
}
